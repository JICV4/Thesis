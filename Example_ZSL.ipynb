{
 "cells": [
  {
   "cell_type": "code",
   "execution_count": 1,
   "metadata": {},
   "outputs": [],
   "source": [
    "#Load the packages\n",
    "import torch\n",
    "import torch.nn as nn\n",
    "from lightning.pytorch import Trainer #https://lightning.ai/docs/pytorch/stable/common/trainer.html\n",
    "from lightning.pytorch.callbacks import ModelCheckpoint, EarlyStopping\n",
    "from lightning.pytorch.loggers import TensorBoardLogger\n",
    "from maldi_zsl_edit.data import MALDITOFDataModule\n",
    "from maldi_zsl_edit.models import ZSLClassifier\n",
    "import h5py\n",
    "import numpy as np"
   ]
  },
  {
   "cell_type": "code",
   "execution_count": 2,
   "metadata": {},
   "outputs": [
    {
     "name": "stdout",
     "output_type": "stream",
     "text": [
      "0.75\n"
     ]
    }
   ],
   "source": [
    "from torchmetrics.classification import MulticlassAccuracy\n",
    "accuracy = MulticlassAccuracy(num_classes=4, average=\"micro\")\n",
    "a = torch.tensor([3,0,1,2])\n",
    "b = torch.tensor([3,0,2,2])\n",
    "\n",
    "print(float(accuracy(a,b)))"
   ]
  },
  {
   "cell_type": "code",
   "execution_count": 3,
   "metadata": {},
   "outputs": [
    {
     "data": {
      "text/plain": [
       "tensor(1.5000)"
      ]
     },
     "execution_count": 3,
     "metadata": {},
     "output_type": "execute_result"
    }
   ],
   "source": [
    "sum(a)/len(a)"
   ]
  },
  {
   "cell_type": "code",
   "execution_count": 4,
   "metadata": {},
   "outputs": [],
   "source": [
    "#What to tune\n",
    "batch_size = 16, 32 ,64\n",
    "dim_emb = 512,788,1014\n",
    "lr=1e-4,1e-6\n",
    "dropout = 0.2,0.5\n",
    "k_n = 3,5,7\n",
    "c_n = 0,64,128"
   ]
  },
  {
   "cell_type": "code",
   "execution_count": 5,
   "metadata": {},
   "outputs": [],
   "source": [
    "#Load the data set\n",
    "dm = MALDITOFDataModule( #Personalized lightning data modules\n",
    "    \"../Data/zsl_binned_new.h5t\", #The old has problems on split\n",
    "    zsl_mode = True, # False: multi-class CLF, True: ZSL\n",
    "    split_index = 0, # independent train-val-test split numbered 0-9\n",
    "    batch_size = 128, # important hyperparameter\n",
    "    n_workers = 2, # you can leave this always if you are not CPU limited\n",
    "    in_memory = True, # you can leave this always if memory is no problem\n",
    "    )\n",
    "\n",
    "dm.setup(None)\n",
    "#batch = next(iter(dm.train_dataloader()))\n",
    "#batch.keys()"
   ]
  },
  {
   "cell_type": "code",
   "execution_count": 6,
   "metadata": {},
   "outputs": [
    {
     "name": "stderr",
     "output_type": "stream",
     "text": [
      "/home/jorge/anaconda3/envs/Thesis/lib/python3.11/site-packages/torch/cuda/__init__.py:611: UserWarning: Can't initialize NVML\n",
      "  warnings.warn(\"Can't initialize NVML\")\n",
      "/home/jorge/anaconda3/envs/Thesis/lib/python3.11/site-packages/torch/cuda/__init__.py:190: UserWarning: \n",
      "    Found GPU1 NVIDIA Tesla K40c which is of cuda capability 3.5.\n",
      "    PyTorch no longer supports this GPU because it is too old.\n",
      "    The minimum cuda capability supported by this library is 3.7.\n",
      "    \n",
      "  warnings.warn(\n"
     ]
    },
    {
     "data": {
      "text/plain": [
       "dict_keys(['intensity', 'mz', 'group', 'strain', 'seq', 'seq_names', 'seq_ohe'])"
      ]
     },
     "execution_count": 6,
     "metadata": {},
     "output_type": "execute_result"
    }
   ],
   "source": [
    "batch = next(iter(dm.train_dataloader()))\n",
    "batch.keys()"
   ]
  },
  {
   "cell_type": "code",
   "execution_count": 7,
   "metadata": {},
   "outputs": [
    {
     "data": {
      "text/plain": [
       "tensor([193, 280, 449, 146, 446,  23, 152, 396, 306, 247, 343, 402, 432,   5,\n",
       "         65,  29, 129,  11,  25, 318, 450,  90, 427,  49,   6, 270, 225, 240,\n",
       "         38,  76, 304, 175, 237, 371, 176,  32, 329, 398, 415, 178,  87, 247,\n",
       "        168, 219,  89, 122,  31, 279, 129, 109, 127, 452, 114, 261, 457, 235,\n",
       "          9,  88, 399, 108, 301, 110, 276, 307, 219,  91, 194, 456, 226, 176,\n",
       "        462, 454, 148, 180,  29, 381, 293, 402, 326,  12,  47, 102, 314, 389,\n",
       "         81,  54, 445, 285, 293, 158, 372, 250,  24,  61, 158,  65,  41, 361,\n",
       "        458, 391, 209, 259, 269, 293, 432, 461, 400, 264, 120,  66,  31,  31,\n",
       "         52,   3,  58, 298, 318, 213, 379, 105, 275,  50, 373, 393, 416, 279,\n",
       "         35, 254])"
      ]
     },
     "execution_count": 7,
     "metadata": {},
     "output_type": "execute_result"
    }
   ],
   "source": [
    "batch[\"strain\"]"
   ]
  },
  {
   "cell_type": "markdown",
   "metadata": {},
   "source": [
    "## Training"
   ]
  },
  {
   "cell_type": "code",
   "execution_count": 8,
   "metadata": {},
   "outputs": [],
   "source": [
    "#Now there should be a batch instance [\"seq_ohe]\", replace the batch[\"seq\"] with it in the models file\n",
    "n_species = 160 #batch['strain'].shape[0] #Number the seq considered for the train, #The batch should be 623 (463 of training and 160 of val, the rest 165 are on test)\n",
    "t_species = 463\n",
    "#To add the correct number of n_species you need to correct the sequences seen per batch\n",
    "dim_emb = 788\n",
    "model = ZSLClassifier(\n",
    "    mlp_kwargs = { #specify the parameters to buld the MLP ()\n",
    "        'n_inputs' : 6000, #Bins of the spectra\n",
    "        'emb_dim' : dim_emb, #This is the output of the branch\n",
    "        'layer_dims': [512, 256],\n",
    "        'layer_or_batchnorm' : \"layer\",\n",
    "        'dropout' : 0.2,\n",
    "    },\n",
    "    cnn_kwargs= { #specify the parameters to buld the CNN ()\n",
    "        'vocab_size' : 6, #Number of words, in this case is 5 as (A,T,C,G,-)\n",
    "        'emb_dim' : dim_emb, #This is the output of the branch\n",
    "        'conv_sizes' : [64, 128], #[32, 64, 128] Out chanels of the convolutions #On the nlp mode the first is an embeding dimension\n",
    "        'hidden_sizes' : [0], #MLP: [512, 256]. If [0] then goes directly from conv to embeding layer\n",
    "        #IMPORTANT: The models for classification have first the convolution and then a MLP, consider to also add the MLP in the model\n",
    "        #Note: The first hidden state is the embedding dim of the seq language processing and need to be optimized\n",
    "        #Note2: The last is the embedding dim for the shared space and score function\n",
    "        'blocks_per_stage' : 2, #How many residual blocks are applied before the pooling\n",
    "        'kernel_size' : 7,\n",
    "        #Stride?\n",
    "        #Max average or non?\n",
    "        'dropout' : 0.2,\n",
    "        'nlp' : False #Move directly to the branch\n",
    "    },\n",
    "    n_classes = n_species,\n",
    "    t_classes = t_species,\n",
    "    lr=1e-4, # important to tune\n",
    "    weight_decay=0, # this you can keep constant\n",
    "    lr_decay_factor=1.00, # this you can keep constant\n",
    "    warmup_steps=250, # this you can keep constant\n",
    "    #nlp = False #Try\n",
    ")"
   ]
  },
  {
   "cell_type": "code",
   "execution_count": 9,
   "metadata": {},
   "outputs": [
    {
     "name": "stderr",
     "output_type": "stream",
     "text": [
      "GPU available: True (cuda), used: True\n",
      "TPU available: False, using: 0 TPU cores\n",
      "IPU available: False, using: 0 IPUs\n",
      "HPU available: False, using: 0 HPUs\n"
     ]
    }
   ],
   "source": [
    "#Save and monitor training with tensor board\n",
    "from datetime import datetime\n",
    "timenow = datetime.now()\n",
    "strtime = timenow.strftime(\"%Y-%m-%d_%H-%M-%S\")\n",
    "\n",
    "val_ckpt = ModelCheckpoint(monitor=\"val_acc\", mode=\"max\")\n",
    "callbacks = [val_ckpt, EarlyStopping(monitor=\"val_acc\", patience=10, mode=\"max\")]\n",
    "logger = TensorBoardLogger(\"../logs_folder\", name=\"zsl_train_try2\", version=strtime) # Ctrl+Shift+P # Main folder where the training is saved and the name for the training\n",
    "\n",
    "#Training specification\n",
    "trainer = Trainer(\n",
    "    max_epochs = 100, \n",
    "    accelerator='gpu', \n",
    "    strategy='auto',\n",
    "    callbacks=callbacks,\n",
    "    logger=logger,\n",
    "    devices=[0]) #You can define epochs and training devices (look on documentation)"
   ]
  },
  {
   "cell_type": "code",
   "execution_count": 10,
   "metadata": {},
   "outputs": [
    {
     "name": "stderr",
     "output_type": "stream",
     "text": [
      "2024-07-17 21:14:30.216008: I tensorflow/core/platform/cpu_feature_guard.cc:210] This TensorFlow binary is optimized to use available CPU instructions in performance-critical operations.\n",
      "To enable the following instructions: AVX2 FMA, in other operations, rebuild TensorFlow with the appropriate compiler flags.\n",
      "2024-07-17 21:14:31.139545: W tensorflow/compiler/tf2tensorrt/utils/py_utils.cc:38] TF-TRT Warning: Could not find TensorRT\n",
      "LOCAL_RANK: 0 - CUDA_VISIBLE_DEVICES: [0,1]\n",
      "\n",
      "  | Name              | Type               | Params\n",
      "---------------------------------------------------------\n",
      "0 | spectrum_embedder | MLPEmbedding       | 3.6 M \n",
      "1 | seq_embedder      | CNNEmbedding       | 372 K \n",
      "2 | accuracy          | MulticlassAccuracy | 0     \n",
      "3 | accuracy2         | MulticlassAccuracy | 0     \n",
      "4 | top5_accuracy     | MulticlassAccuracy | 0     \n",
      "---------------------------------------------------------\n",
      "4.0 M     Trainable params\n",
      "0         Non-trainable params\n",
      "4.0 M     Total params\n",
      "15.935    Total estimated model params size (MB)\n"
     ]
    },
    {
     "name": "stdout",
     "output_type": "stream",
     "text": [
      "Sanity Checking: 0it [00:00, ?it/s]"
     ]
    },
    {
     "name": "stderr",
     "output_type": "stream",
     "text": [
      "/home/jorge/anaconda3/envs/Thesis/lib/python3.11/site-packages/lightning/pytorch/trainer/connectors/data_connector.py:442: PossibleUserWarning: The dataloader, val_dataloader, does not have many workers which may be a bottleneck. Consider increasing the value of the `num_workers` argument` (try 12 which is the number of cpus on this machine) in the `DataLoader` init to improve performance.\n",
      "  rank_zero_warn(\n"
     ]
    },
    {
     "name": "stdout",
     "output_type": "stream",
     "text": [
      "Sanity Checking DataLoader 0: 100%|██████████| 2/2 [00:00<00:00,  2.04it/s]\n",
      " HEREEEEE 3\n",
      "\n"
     ]
    },
    {
     "ename": "ZeroDivisionError",
     "evalue": "division by zero",
     "output_type": "error",
     "traceback": [
      "\u001b[0;31m---------------------------------------------------------------------------\u001b[0m",
      "\u001b[0;31mZeroDivisionError\u001b[0m                         Traceback (most recent call last)",
      "Cell \u001b[0;32mIn[10], line 9\u001b[0m\n\u001b[1;32m      1\u001b[0m \u001b[38;5;66;03m#Pre-save the model\u001b[39;00m\n\u001b[1;32m      2\u001b[0m \u001b[38;5;66;03m#sure = True\u001b[39;00m\n\u001b[1;32m      3\u001b[0m \u001b[38;5;66;03m#if sure:\u001b[39;00m\n\u001b[0;32m   (...)\u001b[0m\n\u001b[1;32m      7\u001b[0m \n\u001b[1;32m      8\u001b[0m \u001b[38;5;66;03m#Start training\u001b[39;00m\n\u001b[0;32m----> 9\u001b[0m trainer\u001b[38;5;241m.\u001b[39mfit(model, dm\u001b[38;5;241m.\u001b[39mtrain_dataloader(), dm\u001b[38;5;241m.\u001b[39mval_dataloader())\n",
      "File \u001b[0;32m~/anaconda3/envs/Thesis/lib/python3.11/site-packages/lightning/pytorch/trainer/trainer.py:532\u001b[0m, in \u001b[0;36mTrainer.fit\u001b[0;34m(self, model, train_dataloaders, val_dataloaders, datamodule, ckpt_path)\u001b[0m\n\u001b[1;32m    530\u001b[0m \u001b[38;5;28mself\u001b[39m\u001b[38;5;241m.\u001b[39mstrategy\u001b[38;5;241m.\u001b[39m_lightning_module \u001b[38;5;241m=\u001b[39m model\n\u001b[1;32m    531\u001b[0m _verify_strategy_supports_compile(model, \u001b[38;5;28mself\u001b[39m\u001b[38;5;241m.\u001b[39mstrategy)\n\u001b[0;32m--> 532\u001b[0m call\u001b[38;5;241m.\u001b[39m_call_and_handle_interrupt(\n\u001b[1;32m    533\u001b[0m     \u001b[38;5;28mself\u001b[39m, \u001b[38;5;28mself\u001b[39m\u001b[38;5;241m.\u001b[39m_fit_impl, model, train_dataloaders, val_dataloaders, datamodule, ckpt_path\n\u001b[1;32m    534\u001b[0m )\n",
      "File \u001b[0;32m~/anaconda3/envs/Thesis/lib/python3.11/site-packages/lightning/pytorch/trainer/call.py:43\u001b[0m, in \u001b[0;36m_call_and_handle_interrupt\u001b[0;34m(trainer, trainer_fn, *args, **kwargs)\u001b[0m\n\u001b[1;32m     41\u001b[0m     \u001b[38;5;28;01mif\u001b[39;00m trainer\u001b[38;5;241m.\u001b[39mstrategy\u001b[38;5;241m.\u001b[39mlauncher \u001b[38;5;129;01mis\u001b[39;00m \u001b[38;5;129;01mnot\u001b[39;00m \u001b[38;5;28;01mNone\u001b[39;00m:\n\u001b[1;32m     42\u001b[0m         \u001b[38;5;28;01mreturn\u001b[39;00m trainer\u001b[38;5;241m.\u001b[39mstrategy\u001b[38;5;241m.\u001b[39mlauncher\u001b[38;5;241m.\u001b[39mlaunch(trainer_fn, \u001b[38;5;241m*\u001b[39margs, trainer\u001b[38;5;241m=\u001b[39mtrainer, \u001b[38;5;241m*\u001b[39m\u001b[38;5;241m*\u001b[39mkwargs)\n\u001b[0;32m---> 43\u001b[0m     \u001b[38;5;28;01mreturn\u001b[39;00m trainer_fn(\u001b[38;5;241m*\u001b[39margs, \u001b[38;5;241m*\u001b[39m\u001b[38;5;241m*\u001b[39mkwargs)\n\u001b[1;32m     45\u001b[0m \u001b[38;5;28;01mexcept\u001b[39;00m _TunerExitException:\n\u001b[1;32m     46\u001b[0m     _call_teardown_hook(trainer)\n",
      "File \u001b[0;32m~/anaconda3/envs/Thesis/lib/python3.11/site-packages/lightning/pytorch/trainer/trainer.py:571\u001b[0m, in \u001b[0;36mTrainer._fit_impl\u001b[0;34m(self, model, train_dataloaders, val_dataloaders, datamodule, ckpt_path)\u001b[0m\n\u001b[1;32m    561\u001b[0m \u001b[38;5;28mself\u001b[39m\u001b[38;5;241m.\u001b[39m_data_connector\u001b[38;5;241m.\u001b[39mattach_data(\n\u001b[1;32m    562\u001b[0m     model, train_dataloaders\u001b[38;5;241m=\u001b[39mtrain_dataloaders, val_dataloaders\u001b[38;5;241m=\u001b[39mval_dataloaders, datamodule\u001b[38;5;241m=\u001b[39mdatamodule\n\u001b[1;32m    563\u001b[0m )\n\u001b[1;32m    565\u001b[0m ckpt_path \u001b[38;5;241m=\u001b[39m \u001b[38;5;28mself\u001b[39m\u001b[38;5;241m.\u001b[39m_checkpoint_connector\u001b[38;5;241m.\u001b[39m_select_ckpt_path(\n\u001b[1;32m    566\u001b[0m     \u001b[38;5;28mself\u001b[39m\u001b[38;5;241m.\u001b[39mstate\u001b[38;5;241m.\u001b[39mfn,\n\u001b[1;32m    567\u001b[0m     ckpt_path,\n\u001b[1;32m    568\u001b[0m     model_provided\u001b[38;5;241m=\u001b[39m\u001b[38;5;28;01mTrue\u001b[39;00m,\n\u001b[1;32m    569\u001b[0m     model_connected\u001b[38;5;241m=\u001b[39m\u001b[38;5;28mself\u001b[39m\u001b[38;5;241m.\u001b[39mlightning_module \u001b[38;5;129;01mis\u001b[39;00m \u001b[38;5;129;01mnot\u001b[39;00m \u001b[38;5;28;01mNone\u001b[39;00m,\n\u001b[1;32m    570\u001b[0m )\n\u001b[0;32m--> 571\u001b[0m \u001b[38;5;28mself\u001b[39m\u001b[38;5;241m.\u001b[39m_run(model, ckpt_path\u001b[38;5;241m=\u001b[39mckpt_path)\n\u001b[1;32m    573\u001b[0m \u001b[38;5;28;01massert\u001b[39;00m \u001b[38;5;28mself\u001b[39m\u001b[38;5;241m.\u001b[39mstate\u001b[38;5;241m.\u001b[39mstopped\n\u001b[1;32m    574\u001b[0m \u001b[38;5;28mself\u001b[39m\u001b[38;5;241m.\u001b[39mtraining \u001b[38;5;241m=\u001b[39m \u001b[38;5;28;01mFalse\u001b[39;00m\n",
      "File \u001b[0;32m~/anaconda3/envs/Thesis/lib/python3.11/site-packages/lightning/pytorch/trainer/trainer.py:980\u001b[0m, in \u001b[0;36mTrainer._run\u001b[0;34m(self, model, ckpt_path)\u001b[0m\n\u001b[1;32m    975\u001b[0m \u001b[38;5;28mself\u001b[39m\u001b[38;5;241m.\u001b[39m_signal_connector\u001b[38;5;241m.\u001b[39mregister_signal_handlers()\n\u001b[1;32m    977\u001b[0m \u001b[38;5;66;03m# ----------------------------\u001b[39;00m\n\u001b[1;32m    978\u001b[0m \u001b[38;5;66;03m# RUN THE TRAINER\u001b[39;00m\n\u001b[1;32m    979\u001b[0m \u001b[38;5;66;03m# ----------------------------\u001b[39;00m\n\u001b[0;32m--> 980\u001b[0m results \u001b[38;5;241m=\u001b[39m \u001b[38;5;28mself\u001b[39m\u001b[38;5;241m.\u001b[39m_run_stage()\n\u001b[1;32m    982\u001b[0m \u001b[38;5;66;03m# ----------------------------\u001b[39;00m\n\u001b[1;32m    983\u001b[0m \u001b[38;5;66;03m# POST-Training CLEAN UP\u001b[39;00m\n\u001b[1;32m    984\u001b[0m \u001b[38;5;66;03m# ----------------------------\u001b[39;00m\n\u001b[1;32m    985\u001b[0m log\u001b[38;5;241m.\u001b[39mdebug(\u001b[38;5;124mf\u001b[39m\u001b[38;5;124m\"\u001b[39m\u001b[38;5;132;01m{\u001b[39;00m\u001b[38;5;28mself\u001b[39m\u001b[38;5;241m.\u001b[39m\u001b[38;5;18m__class__\u001b[39m\u001b[38;5;241m.\u001b[39m\u001b[38;5;18m__name__\u001b[39m\u001b[38;5;132;01m}\u001b[39;00m\u001b[38;5;124m: trainer tearing down\u001b[39m\u001b[38;5;124m\"\u001b[39m)\n",
      "File \u001b[0;32m~/anaconda3/envs/Thesis/lib/python3.11/site-packages/lightning/pytorch/trainer/trainer.py:1021\u001b[0m, in \u001b[0;36mTrainer._run_stage\u001b[0;34m(self)\u001b[0m\n\u001b[1;32m   1019\u001b[0m \u001b[38;5;28;01mif\u001b[39;00m \u001b[38;5;28mself\u001b[39m\u001b[38;5;241m.\u001b[39mtraining:\n\u001b[1;32m   1020\u001b[0m     \u001b[38;5;28;01mwith\u001b[39;00m isolate_rng():\n\u001b[0;32m-> 1021\u001b[0m         \u001b[38;5;28mself\u001b[39m\u001b[38;5;241m.\u001b[39m_run_sanity_check()\n\u001b[1;32m   1022\u001b[0m     \u001b[38;5;28;01mwith\u001b[39;00m torch\u001b[38;5;241m.\u001b[39mautograd\u001b[38;5;241m.\u001b[39mset_detect_anomaly(\u001b[38;5;28mself\u001b[39m\u001b[38;5;241m.\u001b[39m_detect_anomaly):\n\u001b[1;32m   1023\u001b[0m         \u001b[38;5;28mself\u001b[39m\u001b[38;5;241m.\u001b[39mfit_loop\u001b[38;5;241m.\u001b[39mrun()\n",
      "File \u001b[0;32m~/anaconda3/envs/Thesis/lib/python3.11/site-packages/lightning/pytorch/trainer/trainer.py:1050\u001b[0m, in \u001b[0;36mTrainer._run_sanity_check\u001b[0;34m(self)\u001b[0m\n\u001b[1;32m   1047\u001b[0m call\u001b[38;5;241m.\u001b[39m_call_callback_hooks(\u001b[38;5;28mself\u001b[39m, \u001b[38;5;124m\"\u001b[39m\u001b[38;5;124mon_sanity_check_start\u001b[39m\u001b[38;5;124m\"\u001b[39m)\n\u001b[1;32m   1049\u001b[0m \u001b[38;5;66;03m# run eval step\u001b[39;00m\n\u001b[0;32m-> 1050\u001b[0m val_loop\u001b[38;5;241m.\u001b[39mrun()\n\u001b[1;32m   1052\u001b[0m call\u001b[38;5;241m.\u001b[39m_call_callback_hooks(\u001b[38;5;28mself\u001b[39m, \u001b[38;5;124m\"\u001b[39m\u001b[38;5;124mon_sanity_check_end\u001b[39m\u001b[38;5;124m\"\u001b[39m)\n\u001b[1;32m   1054\u001b[0m \u001b[38;5;66;03m# reset logger connector\u001b[39;00m\n",
      "File \u001b[0;32m~/anaconda3/envs/Thesis/lib/python3.11/site-packages/lightning/pytorch/loops/utilities.py:181\u001b[0m, in \u001b[0;36m_no_grad_context.<locals>._decorator\u001b[0;34m(self, *args, **kwargs)\u001b[0m\n\u001b[1;32m    179\u001b[0m     context_manager \u001b[38;5;241m=\u001b[39m torch\u001b[38;5;241m.\u001b[39mno_grad\n\u001b[1;32m    180\u001b[0m \u001b[38;5;28;01mwith\u001b[39;00m context_manager():\n\u001b[0;32m--> 181\u001b[0m     \u001b[38;5;28;01mreturn\u001b[39;00m loop_run(\u001b[38;5;28mself\u001b[39m, \u001b[38;5;241m*\u001b[39margs, \u001b[38;5;241m*\u001b[39m\u001b[38;5;241m*\u001b[39mkwargs)\n",
      "File \u001b[0;32m~/anaconda3/envs/Thesis/lib/python3.11/site-packages/lightning/pytorch/loops/evaluation_loop.py:122\u001b[0m, in \u001b[0;36m_EvaluationLoop.run\u001b[0;34m(self)\u001b[0m\n\u001b[1;32m    120\u001b[0m         \u001b[38;5;28mself\u001b[39m\u001b[38;5;241m.\u001b[39m_restarting \u001b[38;5;241m=\u001b[39m \u001b[38;5;28;01mFalse\u001b[39;00m\n\u001b[1;32m    121\u001b[0m \u001b[38;5;28mself\u001b[39m\u001b[38;5;241m.\u001b[39m_store_dataloader_outputs()\n\u001b[0;32m--> 122\u001b[0m \u001b[38;5;28;01mreturn\u001b[39;00m \u001b[38;5;28mself\u001b[39m\u001b[38;5;241m.\u001b[39mon_run_end()\n",
      "File \u001b[0;32m~/anaconda3/envs/Thesis/lib/python3.11/site-packages/lightning/pytorch/loops/evaluation_loop.py:244\u001b[0m, in \u001b[0;36m_EvaluationLoop.on_run_end\u001b[0;34m(self)\u001b[0m\n\u001b[1;32m    241\u001b[0m \u001b[38;5;28mself\u001b[39m\u001b[38;5;241m.\u001b[39mtrainer\u001b[38;5;241m.\u001b[39m_logger_connector\u001b[38;5;241m.\u001b[39m_evaluation_epoch_end()\n\u001b[1;32m    243\u001b[0m \u001b[38;5;66;03m# hook\u001b[39;00m\n\u001b[0;32m--> 244\u001b[0m \u001b[38;5;28mself\u001b[39m\u001b[38;5;241m.\u001b[39m_on_evaluation_epoch_end()\n\u001b[1;32m    246\u001b[0m logged_outputs, \u001b[38;5;28mself\u001b[39m\u001b[38;5;241m.\u001b[39m_logged_outputs \u001b[38;5;241m=\u001b[39m \u001b[38;5;28mself\u001b[39m\u001b[38;5;241m.\u001b[39m_logged_outputs, []  \u001b[38;5;66;03m# free memory\u001b[39;00m\n\u001b[1;32m    247\u001b[0m \u001b[38;5;66;03m# include any logged outputs on epoch_end\u001b[39;00m\n",
      "File \u001b[0;32m~/anaconda3/envs/Thesis/lib/python3.11/site-packages/lightning/pytorch/loops/evaluation_loop.py:326\u001b[0m, in \u001b[0;36m_EvaluationLoop._on_evaluation_epoch_end\u001b[0;34m(self)\u001b[0m\n\u001b[1;32m    324\u001b[0m hook_name \u001b[38;5;241m=\u001b[39m \u001b[38;5;124m\"\u001b[39m\u001b[38;5;124mon_test_epoch_end\u001b[39m\u001b[38;5;124m\"\u001b[39m \u001b[38;5;28;01mif\u001b[39;00m trainer\u001b[38;5;241m.\u001b[39mtesting \u001b[38;5;28;01melse\u001b[39;00m \u001b[38;5;124m\"\u001b[39m\u001b[38;5;124mon_validation_epoch_end\u001b[39m\u001b[38;5;124m\"\u001b[39m\n\u001b[1;32m    325\u001b[0m call\u001b[38;5;241m.\u001b[39m_call_callback_hooks(trainer, hook_name)\n\u001b[0;32m--> 326\u001b[0m call\u001b[38;5;241m.\u001b[39m_call_lightning_module_hook(trainer, hook_name)\n\u001b[1;32m    328\u001b[0m trainer\u001b[38;5;241m.\u001b[39m_logger_connector\u001b[38;5;241m.\u001b[39mon_epoch_end()\n",
      "File \u001b[0;32m~/anaconda3/envs/Thesis/lib/python3.11/site-packages/lightning/pytorch/trainer/call.py:146\u001b[0m, in \u001b[0;36m_call_lightning_module_hook\u001b[0;34m(trainer, hook_name, pl_module, *args, **kwargs)\u001b[0m\n\u001b[1;32m    143\u001b[0m pl_module\u001b[38;5;241m.\u001b[39m_current_fx_name \u001b[38;5;241m=\u001b[39m hook_name\n\u001b[1;32m    145\u001b[0m \u001b[38;5;28;01mwith\u001b[39;00m trainer\u001b[38;5;241m.\u001b[39mprofiler\u001b[38;5;241m.\u001b[39mprofile(\u001b[38;5;124mf\u001b[39m\u001b[38;5;124m\"\u001b[39m\u001b[38;5;124m[LightningModule]\u001b[39m\u001b[38;5;132;01m{\u001b[39;00mpl_module\u001b[38;5;241m.\u001b[39m\u001b[38;5;18m__class__\u001b[39m\u001b[38;5;241m.\u001b[39m\u001b[38;5;18m__name__\u001b[39m\u001b[38;5;132;01m}\u001b[39;00m\u001b[38;5;124m.\u001b[39m\u001b[38;5;132;01m{\u001b[39;00mhook_name\u001b[38;5;132;01m}\u001b[39;00m\u001b[38;5;124m\"\u001b[39m):\n\u001b[0;32m--> 146\u001b[0m     output \u001b[38;5;241m=\u001b[39m fn(\u001b[38;5;241m*\u001b[39margs, \u001b[38;5;241m*\u001b[39m\u001b[38;5;241m*\u001b[39mkwargs)\n\u001b[1;32m    148\u001b[0m \u001b[38;5;66;03m# restore current_fx when nested context\u001b[39;00m\n\u001b[1;32m    149\u001b[0m pl_module\u001b[38;5;241m.\u001b[39m_current_fx_name \u001b[38;5;241m=\u001b[39m prev_fx_name\n",
      "File \u001b[0;32m~/thesis/Thesis/maldi_zsl_edit/models.py:637\u001b[0m, in \u001b[0;36mZSLClassifier.on_validation_epoch_end\u001b[0;34m(self)\u001b[0m\n\u001b[1;32m    635\u001b[0m \u001b[38;5;28mprint\u001b[39m(\u001b[38;5;124m\"\u001b[39m\u001b[38;5;130;01m\\n\u001b[39;00m\u001b[38;5;124m HEREEEEE 3\u001b[39m\u001b[38;5;130;01m\\n\u001b[39;00m\u001b[38;5;124m\"\u001b[39m)\n\u001b[1;32m    636\u001b[0m \u001b[38;5;28;01mif\u001b[39;00m \u001b[38;5;28mlen\u001b[39m(\u001b[38;5;28mself\u001b[39m\u001b[38;5;241m.\u001b[39mtrain_loss) \u001b[38;5;241m==\u001b[39m \u001b[38;5;241m0\u001b[39m:\n\u001b[0;32m--> 637\u001b[0m     epoch_train_loss \u001b[38;5;241m=\u001b[39m \u001b[38;5;28msum\u001b[39m(\u001b[38;5;28mself\u001b[39m\u001b[38;5;241m.\u001b[39mtrain_loss)\u001b[38;5;241m/\u001b[39m\u001b[38;5;28mlen\u001b[39m(\u001b[38;5;28mself\u001b[39m\u001b[38;5;241m.\u001b[39mtrain_loss)\n\u001b[1;32m    638\u001b[0m     epoch_train_accu \u001b[38;5;241m=\u001b[39m \u001b[38;5;241m0.0\u001b[39m  \u001b[38;5;66;03m#self.train_accu.mean()            \u001b[39;00m\n\u001b[1;32m    639\u001b[0m \u001b[38;5;28;01melse\u001b[39;00m:\n",
      "\u001b[0;31mZeroDivisionError\u001b[0m: division by zero"
     ]
    }
   ],
   "source": [
    "#Pre-save the model\n",
    "#sure = True\n",
    "#if sure:\n",
    "#    torch.save(model, f'../SavedModels/ZSLmodel{strtime}.pth')\n",
    "#    print(f\"Saved as ZSLmodel{strtime}.pth\")\n",
    "#model.load_from_checkpoint('../logs_folder/zsl_train_try2/2024-07-16_08-12-50/checkpoints/epoch=25-step=27404.ckpt') #load model from if needed\n",
    "\n",
    "#Start training\n",
    "trainer.fit(model, dm.train_dataloader(), dm.val_dataloader()) #Important: normally you can use only dm, but here we specify as the dim of a are different for train and val \n",
    "#Note: The model object specify what is considered an input values and what is considered an input/output value during the training on the training step method"
   ]
  },
  {
   "cell_type": "code",
   "execution_count": null,
   "metadata": {},
   "outputs": [
    {
     "name": "stdout",
     "output_type": "stream",
     "text": [
      "Saved as ZSLmodel2024-07-16_19-09-58.pth\n"
     ]
    }
   ],
   "source": [
    "#timenow = datetime.now()\n",
    "#traintime = timenow.strftime(\"%Y-%m-%d_%H-%M-%S\") - strtime\n",
    "#print(f\"The model lasted {traintime} to train\")\n",
    "\n",
    "#Save the model also at the end of the training\n",
    "sure = True\n",
    "if sure:\n",
    "    torch.save(model, f'../SavedModels/ZSLmodel{strtime}.pth')\n",
    "    print(f\"Saved as ZSLmodel{strtime}.pth\")\n"
   ]
  },
  {
   "cell_type": "markdown",
   "metadata": {},
   "source": [
    "# Test model"
   ]
  },
  {
   "cell_type": "code",
   "execution_count": null,
   "metadata": {},
   "outputs": [],
   "source": [
    "#Load the model\n",
    "sure = False\n",
    "if sure:\n",
    "    model = torch.load('../SavedModels/ZSLmodel2024-07-13_02-56-19.pth')"
   ]
  },
  {
   "cell_type": "markdown",
   "metadata": {},
   "source": [
    "## Get predictions"
   ]
  },
  {
   "cell_type": "code",
   "execution_count": null,
   "metadata": {},
   "outputs": [
    {
     "name": "stdout",
     "output_type": "stream",
     "text": [
      "torch.Size([16, 6000])\n",
      "torch.Size([160, 6, 2236])\n"
     ]
    }
   ],
   "source": [
    "minibatch = next(iter(dm.val_dataloader()))\n",
    "print(minibatch[\"intensity\"].shape)\n",
    "print(minibatch[\"seq_ohe\"].shape) #The batch should be 623 (463 of training and 160 of val, the rest 165 are on test)"
   ]
  },
  {
   "cell_type": "code",
   "execution_count": null,
   "metadata": {},
   "outputs": [
    {
     "name": "stdout",
     "output_type": "stream",
     "text": [
      "0 <HDF5 group \"/0\" (11 members)>\n",
      "0/intensity <HDF5 dataset \"intensity\": shape (29105, 6000), type \"<f4\">\n",
      "0/split_0 <HDF5 dataset \"split_0\": shape (29105,), type \"|S11\">\n",
      "0/split_1 <HDF5 dataset \"split_1\": shape (29105,), type \"|S11\">\n",
      "0/split_2 <HDF5 dataset \"split_2\": shape (29105,), type \"|S11\">\n",
      "0/split_3 <HDF5 dataset \"split_3\": shape (29105,), type \"|S11\">\n",
      "0/split_4 <HDF5 dataset \"split_4\": shape (29105,), type \"|S11\">\n",
      "0/split_5 <HDF5 dataset \"split_5\": shape (29105,), type \"|S11\">\n",
      "0/split_6 <HDF5 dataset \"split_6\": shape (29105,), type \"|S11\">\n",
      "0/split_7 <HDF5 dataset \"split_7\": shape (29105,), type \"|S11\">\n",
      "0/split_8 <HDF5 dataset \"split_8\": shape (29105,), type \"|S11\">\n",
      "0/split_9 <HDF5 dataset \"split_9\": shape (29105,), type \"|S11\">\n",
      "1 <HDF5 group \"/1\" (4 members)>\n",
      "1/strain_names <HDF5 dataset \"strain_names\": shape (788,), type \"|S124\">\n",
      "1/strain_seq <HDF5 dataset \"strain_seq\": shape (788,), type \"|S1676\">\n",
      "1/strain_seq_aligned <HDF5 dataset \"strain_seq_aligned\": shape (788, 2236), type \"|i1\">\n",
      "1/strain_seq_aligned_ohe <HDF5 dataset \"strain_seq_aligned_ohe\": shape (788, 6, 2236), type \"|b1\">\n",
      "central <HDF5 dataset \"central\": shape (29105, 788), type \"|b1\">\n",
      "unstructured <HDF5 group \"/unstructured\" (1 members)>\n",
      "unstructured/mz <HDF5 dataset \"mz\": shape (6000,), type \"<f4\">\n"
     ]
    }
   ],
   "source": [
    "#Info of the data set\n",
    "h5spectra = h5py.File(\"../Data/zsl_binned_new.h5t\", \"r\") # The old version has problems on the split\n",
    "h5spectra.visititems(print)\n",
    "#There are train: 463, val :160 and test: 165 \n",
    "torch.cuda.empty_cache() "
   ]
  },
  {
   "cell_type": "code",
   "execution_count": null,
   "metadata": {},
   "outputs": [],
   "source": [
    "#Separate the predictions to look their individual accuracies\n",
    "ev_species = {}\n",
    "ev_species[b'train'] = []\n",
    "ev_species[b'val_geni'] = []\n",
    "ev_species[b'val_spec'] = []\n",
    "ev_species[b'val_strain'] = []\n",
    "study = [b'train',b'val_geni',b'val_spec',b'val_strain']\n",
    "i = 0\n",
    "for label in h5spectra[\"0\"][\"split_0\"]:\n",
    "    if label in study:\n",
    "        a = h5spectra[\"central\"][i]\n",
    "        b = np.where(a == True)[0][0]\n",
    "        ev_species[label].append(b)\n",
    "    i+=1"
   ]
  },
  {
   "cell_type": "code",
   "execution_count": null,
   "metadata": {},
   "outputs": [
    {
     "name": "stdout",
     "output_type": "stream",
     "text": [
      "torch.Size([5941, 160])\n"
     ]
    },
    {
     "data": {
      "text/plain": [
       "tensor([[-19.8764, -17.1647, -17.9245,  ..., -28.8872, -13.9622, -30.5791],\n",
       "        [-12.2826, -17.7498, -18.0134,  ..., -18.5176,  -1.4561, -28.4597],\n",
       "        [-36.1949, -33.3030, -36.8852,  ..., -41.5285, -32.8559, -44.1792],\n",
       "        ...,\n",
       "        [-30.8620, -37.3360, -43.9862,  ..., -46.0436, -50.5869, -39.9869],\n",
       "        [ -7.9792, -18.4826, -19.2497,  ..., -13.5342, -21.1101, -13.5630],\n",
       "        [ -9.0755, -16.5461, -17.2136,  ..., -17.6160, -17.5461, -10.1363]])"
      ]
     },
     "execution_count": 14,
     "metadata": {},
     "output_type": "execute_result"
    }
   ],
   "source": [
    "#Manual calculation of the predictions\n",
    "import torch.nn as nn\n",
    "import torch\n",
    "y_pred = torch.empty((0,160)) #the second is the number of species #Change to 788 or 463 for val vs train\n",
    "y_real= []\n",
    "with torch.no_grad():\n",
    "    for minibatch in iter(dm.val_dataloader()): #On the split said if train, val, etc, \n",
    "        y_hat = model(minibatch)\n",
    "        y_pred = torch.cat((y_pred,y_hat),dim=0)\n",
    "        y_real+= list(minibatch['strain'])\n",
    "print(y_pred.shape) #(batch size, total possible species)\n",
    "y_pred"
   ]
  },
  {
   "cell_type": "markdown",
   "metadata": {},
   "source": [
    "## Labels for Multilevel evaluation"
   ]
  },
  {
   "cell_type": "code",
   "execution_count": null,
   "metadata": {},
   "outputs": [],
   "source": [
    "pred_ind = torch.argmax(y_pred, axis=1)\n",
    "real_ind = y_real\n",
    "levels = [\"Family\", \"Genus\", \"Species\", \"Strain\"]\n",
    "granularity_lvl = len(levels) "
   ]
  },
  {
   "cell_type": "code",
   "execution_count": null,
   "metadata": {},
   "outputs": [],
   "source": [
    "filos = minibatch[\"seq_names\"]"
   ]
  },
  {
   "cell_type": "code",
   "execution_count": null,
   "metadata": {},
   "outputs": [],
   "source": [
    "#Get the multilevel predictions, consider how the data is encoded (genus, species, strain)\n",
    "ml_real = []\n",
    "ml_pred = []\n",
    "for i in range(len(y_real)):\n",
    "  #for real:\n",
    "  s_real = filos[real_ind[i]].split(\";\")\n",
    "  ml_real.append(s_real)\n",
    "  #for pred:\n",
    "  s_pred = filos[pred_ind[i]].split(\";\")\n",
    "  ml_pred.append(s_pred)"
   ]
  },
  {
   "cell_type": "code",
   "execution_count": null,
   "metadata": {},
   "outputs": [],
   "source": [
    "#Get them on the right format\n",
    "import numpy as np\n",
    "ml_real = np.array(ml_real).T\n",
    "ml_pred = np.array(ml_pred).T\n",
    "#List for better iteratation\n",
    "ml_reals = ml_real.tolist()\n",
    "ml_preds = ml_pred.tolist()"
   ]
  },
  {
   "cell_type": "code",
   "execution_count": null,
   "metadata": {},
   "outputs": [],
   "source": [
    "#Get all the possible multilevel labels\n",
    "ml_level = []\n",
    "for i in range(len(filos)):\n",
    "  s_level = filos[i].split(\";\")\n",
    "  ml_level.append(s_level)\n",
    "ml_level = np.array(ml_level).T\n",
    "ml_levels = ml_level.tolist()"
   ]
  },
  {
   "cell_type": "code",
   "execution_count": null,
   "metadata": {},
   "outputs": [
    {
     "name": "stdout",
     "output_type": "stream",
     "text": [
      "For Family there are 33 different labels\n",
      "For Genus there are 52 different labels\n",
      "For Species there are 152 different labels\n",
      "For Strain there are 160 different labels\n"
     ]
    }
   ],
   "source": [
    "#Total number of labels\n",
    "for i in range(granularity_lvl):\n",
    "    n = len(list(set(ml_levels[i])))\n",
    "    print(f\"For {levels[i]} there are {n} different labels\")"
   ]
  },
  {
   "cell_type": "markdown",
   "metadata": {},
   "source": [
    "## Accuracy evaluation"
   ]
  },
  {
   "cell_type": "code",
   "execution_count": null,
   "metadata": {},
   "outputs": [],
   "source": [
    "from sklearn.metrics import accuracy_score #There is also a torch version, consider it\n",
    "from sklearn.preprocessing import LabelEncoder\n",
    "from torchmetrics import Accuracy\n",
    "\n",
    "#Create a accuracy evaluator\n",
    "def accu_score(y_true, y_pred, level_lab):\n",
    "    label_encoder = LabelEncoder()\n",
    "    y_true_encoded = label_encoder.fit_transform(level_lab)\n",
    "    y_true_encoded = label_encoder.transform(y_true)\n",
    "    y_pred_encoded = label_encoder.transform(y_pred)\n",
    "\n",
    "    #Using sklearn\n",
    "    #accu = accuracy_score(y_true_encoded, y_pred_encoded, normalize=True) #The normalize True = number of correct predictions, False = fraction of correct predictions\n",
    "    \n",
    "    #Using torch\n",
    "    accu = Accuracy(task=\"multiclass\", num_classes=len(set(level_lab))) \n",
    "    accu = accu(torch.tensor(y_pred_encoded), torch.tensor(y_true_encoded))\n",
    "    \n",
    "    return accu"
   ]
  },
  {
   "cell_type": "code",
   "execution_count": null,
   "metadata": {},
   "outputs": [],
   "source": [
    "# run accu for each level of complexity\n",
    "accu_levels = []\n",
    "for level in range(granularity_lvl ):\n",
    "  accu_levels.append(accu_score(ml_reals[level], ml_preds[level], ml_levels[level]))"
   ]
  },
  {
   "cell_type": "code",
   "execution_count": null,
   "metadata": {},
   "outputs": [
    {
     "name": "stdout",
     "output_type": "stream",
     "text": [
      "For the level Family the accu score is: 0.6167311668395996\n",
      "For the level Genus the accu score is: 0.5763339400291443\n",
      "For the level Species the accu score is: 0.2942265570163727\n",
      "For the level Strain the accu score is: 0.26998820900917053\n"
     ]
    }
   ],
   "source": [
    "# see the results\n",
    "for i in range(granularity_lvl ):\n",
    "  print(f\"For the level {levels[i]} the accu score is: {accu_levels[i]}\") "
   ]
  },
  {
   "cell_type": "markdown",
   "metadata": {},
   "source": [
    "## F1 evaluation"
   ]
  },
  {
   "cell_type": "code",
   "execution_count": null,
   "metadata": {},
   "outputs": [],
   "source": [
    "from sklearn.metrics import f1_score\n",
    "from sklearn.preprocessing import LabelEncoder\n",
    "from torchmetrics import F1Score\n",
    "\n",
    "#Create an F1 evaluator\n",
    "def f1_macro_score(y_true, y_pred, level_lab): #micro average is basically accuracy\n",
    "    label_encoder = LabelEncoder()\n",
    "    y_true_encoded = label_encoder.fit_transform(level_lab)\n",
    "    y_true_encoded = label_encoder.transform(y_true)\n",
    "    y_pred_encoded = label_encoder.transform(y_pred)\n",
    "\n",
    "    #Using sklearn\n",
    "    #f1_scores = f1_score(y_true_encoded, y_pred_encoded, average=None)\n",
    "    #macro_f1 = sum(f1_scores) / len(f1_scores)\n",
    "\n",
    "    #Using torch\n",
    "    macro_f1 = F1Score(task=\"multiclass\", num_classes=len(set(level_lab)), average='macro') \n",
    "    macro_f1 = macro_f1(torch.tensor(y_pred_encoded), torch.tensor(y_true_encoded))\n",
    "\n",
    "    return macro_f1"
   ]
  },
  {
   "cell_type": "code",
   "execution_count": null,
   "metadata": {},
   "outputs": [],
   "source": [
    "# run f1_macro_score for each level of complexity\n",
    "F1_levels = []\n",
    "for level in range(granularity_lvl ):\n",
    "  F1_levels.append(f1_macro_score(ml_reals[level], ml_preds[level], ml_levels[level]))"
   ]
  },
  {
   "cell_type": "code",
   "execution_count": null,
   "metadata": {},
   "outputs": [
    {
     "name": "stdout",
     "output_type": "stream",
     "text": [
      "For the level Family the F1 score is: 0.3303323984146118\n",
      "For the level Genus the F1 score is: 0.34848088026046753\n",
      "For the level Species the F1 score is: 0.22897633910179138\n",
      "For the level Strain the F1 score is: 0.21522611379623413\n"
     ]
    }
   ],
   "source": [
    "# see the results\n",
    "for i in range(granularity_lvl ):\n",
    "  print(f\"For the level {levels[i]} the F1 score is: {F1_levels[i]}\") #The predictions are no the same as the output, maybe F1 is not used there"
   ]
  },
  {
   "cell_type": "markdown",
   "metadata": {},
   "source": []
  }
 ],
 "metadata": {
  "kernelspec": {
   "display_name": "Thesis",
   "language": "python",
   "name": "python3"
  },
  "language_info": {
   "codemirror_mode": {
    "name": "ipython",
    "version": 3
   },
   "file_extension": ".py",
   "mimetype": "text/x-python",
   "name": "python",
   "nbconvert_exporter": "python",
   "pygments_lexer": "ipython3",
   "version": "3.11.5"
  }
 },
 "nbformat": 4,
 "nbformat_minor": 2
}
